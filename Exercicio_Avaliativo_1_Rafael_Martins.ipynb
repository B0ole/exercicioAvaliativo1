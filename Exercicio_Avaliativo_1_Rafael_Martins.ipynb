{
  "nbformat": 4,
  "nbformat_minor": 0,
  "metadata": {
    "colab": {
      "provenance": []
    },
    "kernelspec": {
      "name": "python3",
      "display_name": "Python 3"
    },
    "language_info": {
      "name": "python"
    }
  },
  "cells": [
    {
      "cell_type": "markdown",
      "source": [
        "# Exercício Avaliativo 1"
      ],
      "metadata": {
        "id": "bzNwlpGkOwXh"
      }
    },
    {
      "cell_type": "markdown",
      "source": [
        "Ajustar a poligona em questão pelo Método Correlato da Poligonal em questão:"
      ],
      "metadata": {
        "id": "Ggo3GPJROEGI"
      }
    },
    {
      "cell_type": "markdown",
      "source": [
        "\n",
        "Fluxograma de Ajustamento\n",
        "---\n",
        "\n",
        "https://whimsical.com/fluxograma-de-ajustamento-5Tz6MNRCyRpm6Q7EAbfL8c@6HYTAunKLgTVnjdVazAVa8BwQVFKbs2gMMTcX6N7wvMNtBY"
      ],
      "metadata": {
        "id": "nigbNd7rS6IE"
      }
    },
    {
      "cell_type": "markdown",
      "source": [
        "\n",
        "\n",
        "> **Fonte: MORAES (1997, p14)**\n",
        "\n"
      ],
      "metadata": {
        "id": "wyEZjDPEE5JA"
      }
    },
    {
      "cell_type": "markdown",
      "source": [
        "As coordenadas fixas do ponto 1 = (p + 1) valem x = y = 10.000,000 m;\n",
        "\n",
        "O azimute fixo da linha 1-A é de 315°00'00\";\n",
        "\n",
        "E os desvios-padrão das distâncias $S_{ik}$ são dados por $\\sigma_s = (5 \\text{ mm} + 5 \\text{ ppm})$;\n",
        "\n",
        "E os desvios-padrão dos ângulos $a_i$ valem $\\sigma_a = 0,8\"$.\n"
      ],
      "metadata": {
        "id": "-McsUE_FEzMB"
      }
    },
    {
      "cell_type": "markdown",
      "source": [
        "<img src=\"https://i.ibb.co/v4J9dVK/Captura-de-tela-2024-07-23-104620.jpg\" alt=\"Captura-de-tela-2024-07-23-104620\" border=\"0\">"
      ],
      "metadata": {
        "id": "YjmyASkbE3yi"
      }
    },
    {
      "cell_type": "markdown",
      "source": [
        "### Tabela 1: Dados Observados e Calculados Provisoriamente\n",
        "\n",
        "| Ponto i | Ângulo αᵢ Observado | σ²ᵢ (°²) | Linha ik | Distância Sᵢₖ Observada (m) | σ²S (m²) | Azimute Aᵢₓₖ Provisório | Ponto i | Coordenadas Provisórias x (m) | y (m) |\n",
        "|---------|----------------------|----------|----------|-----------------------------|---------|--------------------------|---------|------------------------------|-------|\n",
        "| 1       | 90°00'01,0\"          | 0,64     | -        | -                           | -       | -                        | -       | -                            | -     |\n",
        "| 2       | 30°00'00,1\"          | 0,64     | 1-2      | 1.000,000                   | 0,0001  | 45°00'01,0\"              | 2       | 10.707,11021                 | 10.707,10335 |\n",
        "| 3       | 30°00'00,8\"          | 0,64     | 2-3      | 1.000,005                   | 0,0001  | 165°00'01,1\"             | 3       | 10.965,92540                 | 9.741,17132  |\n",
        "| 4       | 21°00'00,0\"          | 0,64     | 3-4      | 1.000,010                   | 0,0001  | 285°00'01,9\"             | 4       | 9.999,99230                  | 10.000,00185 |\n",
        "| -       | -                    | -        | 4-A      | -                           | -       | 315°00'01,9\"             | -       | -                            | -     |\n",
        "\n",
        "\n",
        "\n",
        "**Nota:** $e_a = +1,9\"$; $e_x = -0,00770$; $e_y = 0,00185$\n"
      ],
      "metadata": {
        "id": "E7aocQRiGEGr"
      }
    },
    {
      "cell_type": "code",
      "execution_count": null,
      "metadata": {
        "id": "KXfu8ZX3D-Re"
      },
      "outputs": [],
      "source": []
    },
    {
      "cell_type": "markdown",
      "source": [
        "## Passo 1: Estabelecimento das Equações de Observação"
      ],
      "metadata": {
        "id": "nd2D0G4PHCRt"
      }
    },
    {
      "cell_type": "markdown",
      "source": [
        "## Passo 1: Estabelecimento das Equações de Observação\n",
        "\n",
        "Cada observação (ângulo ou distância) na poligonal tem uma equação associada, onde introduzimos as incógnitas (correções) que pretendemos determinar. Para ângulos e distâncias, as equações são geralmente formuladas como:\n",
        "\n",
        "$$ L = L_0 + v $$\n",
        "\n",
        "Onde:\n",
        "- $ L $ é o valor observado corrigido,\n",
        "- $ L_0 $ é o valor observado inicial,\n",
        "- $ v $ é a correção a ser determinada.\n"
      ],
      "metadata": {
        "id": "aE8oOR2JHVtm"
      }
    },
    {
      "cell_type": "markdown",
      "source": [
        "Dados Observados\n",
        "De acordo com as tabelas e informações fornecidas:\n",
        "\n",
        "- Ângulos observados e suas precisões (desvios padrão).\n",
        "- Distâncias observadas entre os pontos e suas precisões.\n",
        "- Azimutes provisórios para cada segmento da poligonal."
      ],
      "metadata": {
        "id": "Y8uRj1T3V0XX"
      }
    },
    {
      "cell_type": "markdown",
      "source": [
        "## Derivação das Equações Normais para Ajuste de Poligonal Fechada\n",
        "\n",
        "### Dados Observados\n",
        "Incluem ângulos e distâncias observados, com suas respectivas precisões.\n",
        "\n",
        "\n",
        "### Passo 2: Construir a Matriz de Pesos $P$\n",
        "A matriz $P$ é diagonal, onde cada elemento é o inverso do quadrado do desvio padrão da observação correspondente:\n",
        "$$ P = \\text{diag} \\left( \\frac{1}{\\sigma_{\\theta}^2}, \\frac{1}{\\sigma_{\\theta}^2}, \\frac{1}{\\sigma_{\\theta}^2}, \\frac{1}{\\sigma_{\\theta}^2}, \\frac{1}{\\sigma_S^2}, \\frac{1}{\\sigma_S^2}, \\frac{1}{\\sigma_S^2} \\right) $$\n",
        "onde:\n",
        "- $ \\sigma_{\\theta} = 0.8\" $ (convertido para graus se necessário)\n",
        "- $ \\sigma_S = 5 \\, \\text{mm} + 5 \\, \\text{ppm de} \\, S_{ik} $\n",
        "\n",
        "### Passo 3: Construir a Matriz de Design $A$\n",
        "Inclui coeficientes para o fechamento angular e linear:\n",
        "\\[ A = \\begin{bmatrix}\n",
        "1 & 1 & 1 & 1 & 0 & 0 & 0 \\\\\n",
        "0 & 0 & 0 & 0 & \\cos(\\alpha_{12}) & \\cos(\\alpha_{23}) & \\cos(\\alpha_{31}) \\\\\n",
        "0 & 0 & 0 & 0 & \\sin(\\alpha_{12}) & \\sin(\\alpha_{23}) & \\sin(\\alpha_{31})\n",
        "\\end{bmatrix} \\\n",
        "\n",
        "### Passo 4: Formular as Equações Normais\n",
        "$$ A^T P A X = A^T P L $$\n",
        "- $ A^T P A $ representa as inter-relações ponderadas das correções.\n",
        "- $ A^T P L $ é o produto das matrizes transposta de $A$, de pesos $P$, e o vetor de observações $L$, formando o lado direito do sistema.\n",
        "\n",
        "#### Estrutura da Matriz A\n",
        "\n",
        "| Equações de Condição         | $v_1$ | $v_2$ | $v_3$ | $v_4$ | $v_{d12,x}$ | $v_{d23,x}$ | $v_{d34,x}$ | $v_{d41,x}$ | $v_{d12,y}$ | $v_{d23,y}$ | $v_{d34,y}$ | $v_{d41,y}$ |\n",
        "|------------------------------|-------|-------|-------|-------|-------------|-------------|-------------|-------------|-------------|-------------|-------------|-------------|\n",
        "| Fechamento Angular           | 1     | 1     | 1     | 1     | 0           | 0           | 0           | 0           | 0           | 0           | 0           | 0           |\n",
        "| Fechamento Linear Horizontal | 0     | 0     | 0     | 0     | $\\cos(\\alpha_{12})$ | $\\cos(\\alpha_{23})$ | $\\cos(\\alpha_{34})$ | $\\cos(\\alpha_{41})$ | 0           | 0           | 0           | 0           |\n",
        "| Fechamento Linear Vertical   | 0     | 0     | 0     | 0     | 0           | 0           | 0           | 0           | $\\sin(\\alpha_{12})$ | $\\sin(\\alpha_{23})$ | $\\sin(\\alpha_{34})$ | $\\sin(\\alpha_{41})$ |\n",
        "\n",
        "https://1drv.ms/x/s!AjO4oAHV5BZuqLtPo9f8fsm3RX0zgA?e=yL4IzC\n",
        "### Notas\n",
        "\n",
        "- **$v_1, v_2, v_3, v_4$**: Correções angulares aplicadas aos ângulos observados.\n",
        "- **$v_{dij,x}$**: Correções aplicadas à componente horizontal ($x$) das distâncias observadas entre os pontos $i$ e $j$.\n",
        "- **$v_{dij,y}$**: Correções aplicadas à componente vertical ($y$) das distâncias observadas entre os pontos $i$ e $j$.\n",
        "\n",
        "Este exemplo foi simplificado para demonstração. As entradas específicas da matriz dependem dos detalhes do levantamento e das observações feitas.\n",
        "\n",
        "### Passo 5: Solução do Sistema\n",
        "Este sistema é resolvido para encontrar $X$, as correções para as observações iniciais.\n",
        "\n",
        "\n"
      ],
      "metadata": {
        "id": "7YHorMQKWskP"
      }
    },
    {
      "cell_type": "markdown",
      "source": [
        "### Passo 1: Construir o Vetor de Observações $L$\n",
        "O vetor $L$ compreende os ângulos e distâncias observados:\n",
        "$$ L = [\\theta_1, \\theta_2, \\theta_3, \\theta_4, S_{12}, S_{23}, S_{31}]^T $$\n"
      ],
      "metadata": {
        "id": "jmcjxVBcW3Uv"
      }
    },
    {
      "cell_type": "code",
      "source": [
        "import sympy as sp\n",
        "from sympy import *\n",
        "import pandas as pd\n",
        "import numpy as np\n",
        "from numpy import *\n",
        "import math as mt\n"
      ],
      "metadata": {
        "id": "-ZzLQNUDCQ6-"
      },
      "execution_count": 21,
      "outputs": []
    },
    {
      "cell_type": "code",
      "source": [
        "table_angle_GMS = pd.read_csv('https://raw.githubusercontent.com/B0ole/exercicioAvaliativo1/main/dados_gms',encoding='utf-8')\n",
        "display(table_angle_GMS)"
      ],
      "metadata": {
        "colab": {
          "base_uri": "https://localhost:8080/",
          "height": 175
        },
        "id": "s5PkfdPbi-SJ",
        "outputId": "7c1cfb20-c55a-4226-af5e-12e6f3bf6b17"
      },
      "execution_count": 2,
      "outputs": [
        {
          "output_type": "display_data",
          "data": {
            "text/plain": [
              "    G  M    S\n",
              "0  90  0  1.0\n",
              "1  30  0  0.1\n",
              "2  30  0  0.8\n",
              "3  21  0  0.0"
            ],
            "text/html": [
              "\n",
              "  <div id=\"df-cf554f17-6f96-4cc7-9c6d-b43a6fba29b4\" class=\"colab-df-container\">\n",
              "    <div>\n",
              "<style scoped>\n",
              "    .dataframe tbody tr th:only-of-type {\n",
              "        vertical-align: middle;\n",
              "    }\n",
              "\n",
              "    .dataframe tbody tr th {\n",
              "        vertical-align: top;\n",
              "    }\n",
              "\n",
              "    .dataframe thead th {\n",
              "        text-align: right;\n",
              "    }\n",
              "</style>\n",
              "<table border=\"1\" class=\"dataframe\">\n",
              "  <thead>\n",
              "    <tr style=\"text-align: right;\">\n",
              "      <th></th>\n",
              "      <th>G</th>\n",
              "      <th>M</th>\n",
              "      <th>S</th>\n",
              "    </tr>\n",
              "  </thead>\n",
              "  <tbody>\n",
              "    <tr>\n",
              "      <th>0</th>\n",
              "      <td>90</td>\n",
              "      <td>0</td>\n",
              "      <td>1.0</td>\n",
              "    </tr>\n",
              "    <tr>\n",
              "      <th>1</th>\n",
              "      <td>30</td>\n",
              "      <td>0</td>\n",
              "      <td>0.1</td>\n",
              "    </tr>\n",
              "    <tr>\n",
              "      <th>2</th>\n",
              "      <td>30</td>\n",
              "      <td>0</td>\n",
              "      <td>0.8</td>\n",
              "    </tr>\n",
              "    <tr>\n",
              "      <th>3</th>\n",
              "      <td>21</td>\n",
              "      <td>0</td>\n",
              "      <td>0.0</td>\n",
              "    </tr>\n",
              "  </tbody>\n",
              "</table>\n",
              "</div>\n",
              "    <div class=\"colab-df-buttons\">\n",
              "\n",
              "  <div class=\"colab-df-container\">\n",
              "    <button class=\"colab-df-convert\" onclick=\"convertToInteractive('df-cf554f17-6f96-4cc7-9c6d-b43a6fba29b4')\"\n",
              "            title=\"Convert this dataframe to an interactive table.\"\n",
              "            style=\"display:none;\">\n",
              "\n",
              "  <svg xmlns=\"http://www.w3.org/2000/svg\" height=\"24px\" viewBox=\"0 -960 960 960\">\n",
              "    <path d=\"M120-120v-720h720v720H120Zm60-500h600v-160H180v160Zm220 220h160v-160H400v160Zm0 220h160v-160H400v160ZM180-400h160v-160H180v160Zm440 0h160v-160H620v160ZM180-180h160v-160H180v160Zm440 0h160v-160H620v160Z\"/>\n",
              "  </svg>\n",
              "    </button>\n",
              "\n",
              "  <style>\n",
              "    .colab-df-container {\n",
              "      display:flex;\n",
              "      gap: 12px;\n",
              "    }\n",
              "\n",
              "    .colab-df-convert {\n",
              "      background-color: #E8F0FE;\n",
              "      border: none;\n",
              "      border-radius: 50%;\n",
              "      cursor: pointer;\n",
              "      display: none;\n",
              "      fill: #1967D2;\n",
              "      height: 32px;\n",
              "      padding: 0 0 0 0;\n",
              "      width: 32px;\n",
              "    }\n",
              "\n",
              "    .colab-df-convert:hover {\n",
              "      background-color: #E2EBFA;\n",
              "      box-shadow: 0px 1px 2px rgba(60, 64, 67, 0.3), 0px 1px 3px 1px rgba(60, 64, 67, 0.15);\n",
              "      fill: #174EA6;\n",
              "    }\n",
              "\n",
              "    .colab-df-buttons div {\n",
              "      margin-bottom: 4px;\n",
              "    }\n",
              "\n",
              "    [theme=dark] .colab-df-convert {\n",
              "      background-color: #3B4455;\n",
              "      fill: #D2E3FC;\n",
              "    }\n",
              "\n",
              "    [theme=dark] .colab-df-convert:hover {\n",
              "      background-color: #434B5C;\n",
              "      box-shadow: 0px 1px 3px 1px rgba(0, 0, 0, 0.15);\n",
              "      filter: drop-shadow(0px 1px 2px rgba(0, 0, 0, 0.3));\n",
              "      fill: #FFFFFF;\n",
              "    }\n",
              "  </style>\n",
              "\n",
              "    <script>\n",
              "      const buttonEl =\n",
              "        document.querySelector('#df-cf554f17-6f96-4cc7-9c6d-b43a6fba29b4 button.colab-df-convert');\n",
              "      buttonEl.style.display =\n",
              "        google.colab.kernel.accessAllowed ? 'block' : 'none';\n",
              "\n",
              "      async function convertToInteractive(key) {\n",
              "        const element = document.querySelector('#df-cf554f17-6f96-4cc7-9c6d-b43a6fba29b4');\n",
              "        const dataTable =\n",
              "          await google.colab.kernel.invokeFunction('convertToInteractive',\n",
              "                                                    [key], {});\n",
              "        if (!dataTable) return;\n",
              "\n",
              "        const docLinkHtml = 'Like what you see? Visit the ' +\n",
              "          '<a target=\"_blank\" href=https://colab.research.google.com/notebooks/data_table.ipynb>data table notebook</a>'\n",
              "          + ' to learn more about interactive tables.';\n",
              "        element.innerHTML = '';\n",
              "        dataTable['output_type'] = 'display_data';\n",
              "        await google.colab.output.renderOutput(dataTable, element);\n",
              "        const docLink = document.createElement('div');\n",
              "        docLink.innerHTML = docLinkHtml;\n",
              "        element.appendChild(docLink);\n",
              "      }\n",
              "    </script>\n",
              "  </div>\n",
              "\n",
              "\n",
              "<div id=\"df-74fe6987-d494-4381-9625-a4617572ddc0\">\n",
              "  <button class=\"colab-df-quickchart\" onclick=\"quickchart('df-74fe6987-d494-4381-9625-a4617572ddc0')\"\n",
              "            title=\"Suggest charts\"\n",
              "            style=\"display:none;\">\n",
              "\n",
              "<svg xmlns=\"http://www.w3.org/2000/svg\" height=\"24px\"viewBox=\"0 0 24 24\"\n",
              "     width=\"24px\">\n",
              "    <g>\n",
              "        <path d=\"M19 3H5c-1.1 0-2 .9-2 2v14c0 1.1.9 2 2 2h14c1.1 0 2-.9 2-2V5c0-1.1-.9-2-2-2zM9 17H7v-7h2v7zm4 0h-2V7h2v10zm4 0h-2v-4h2v4z\"/>\n",
              "    </g>\n",
              "</svg>\n",
              "  </button>\n",
              "\n",
              "<style>\n",
              "  .colab-df-quickchart {\n",
              "      --bg-color: #E8F0FE;\n",
              "      --fill-color: #1967D2;\n",
              "      --hover-bg-color: #E2EBFA;\n",
              "      --hover-fill-color: #174EA6;\n",
              "      --disabled-fill-color: #AAA;\n",
              "      --disabled-bg-color: #DDD;\n",
              "  }\n",
              "\n",
              "  [theme=dark] .colab-df-quickchart {\n",
              "      --bg-color: #3B4455;\n",
              "      --fill-color: #D2E3FC;\n",
              "      --hover-bg-color: #434B5C;\n",
              "      --hover-fill-color: #FFFFFF;\n",
              "      --disabled-bg-color: #3B4455;\n",
              "      --disabled-fill-color: #666;\n",
              "  }\n",
              "\n",
              "  .colab-df-quickchart {\n",
              "    background-color: var(--bg-color);\n",
              "    border: none;\n",
              "    border-radius: 50%;\n",
              "    cursor: pointer;\n",
              "    display: none;\n",
              "    fill: var(--fill-color);\n",
              "    height: 32px;\n",
              "    padding: 0;\n",
              "    width: 32px;\n",
              "  }\n",
              "\n",
              "  .colab-df-quickchart:hover {\n",
              "    background-color: var(--hover-bg-color);\n",
              "    box-shadow: 0 1px 2px rgba(60, 64, 67, 0.3), 0 1px 3px 1px rgba(60, 64, 67, 0.15);\n",
              "    fill: var(--button-hover-fill-color);\n",
              "  }\n",
              "\n",
              "  .colab-df-quickchart-complete:disabled,\n",
              "  .colab-df-quickchart-complete:disabled:hover {\n",
              "    background-color: var(--disabled-bg-color);\n",
              "    fill: var(--disabled-fill-color);\n",
              "    box-shadow: none;\n",
              "  }\n",
              "\n",
              "  .colab-df-spinner {\n",
              "    border: 2px solid var(--fill-color);\n",
              "    border-color: transparent;\n",
              "    border-bottom-color: var(--fill-color);\n",
              "    animation:\n",
              "      spin 1s steps(1) infinite;\n",
              "  }\n",
              "\n",
              "  @keyframes spin {\n",
              "    0% {\n",
              "      border-color: transparent;\n",
              "      border-bottom-color: var(--fill-color);\n",
              "      border-left-color: var(--fill-color);\n",
              "    }\n",
              "    20% {\n",
              "      border-color: transparent;\n",
              "      border-left-color: var(--fill-color);\n",
              "      border-top-color: var(--fill-color);\n",
              "    }\n",
              "    30% {\n",
              "      border-color: transparent;\n",
              "      border-left-color: var(--fill-color);\n",
              "      border-top-color: var(--fill-color);\n",
              "      border-right-color: var(--fill-color);\n",
              "    }\n",
              "    40% {\n",
              "      border-color: transparent;\n",
              "      border-right-color: var(--fill-color);\n",
              "      border-top-color: var(--fill-color);\n",
              "    }\n",
              "    60% {\n",
              "      border-color: transparent;\n",
              "      border-right-color: var(--fill-color);\n",
              "    }\n",
              "    80% {\n",
              "      border-color: transparent;\n",
              "      border-right-color: var(--fill-color);\n",
              "      border-bottom-color: var(--fill-color);\n",
              "    }\n",
              "    90% {\n",
              "      border-color: transparent;\n",
              "      border-bottom-color: var(--fill-color);\n",
              "    }\n",
              "  }\n",
              "</style>\n",
              "\n",
              "  <script>\n",
              "    async function quickchart(key) {\n",
              "      const quickchartButtonEl =\n",
              "        document.querySelector('#' + key + ' button');\n",
              "      quickchartButtonEl.disabled = true;  // To prevent multiple clicks.\n",
              "      quickchartButtonEl.classList.add('colab-df-spinner');\n",
              "      try {\n",
              "        const charts = await google.colab.kernel.invokeFunction(\n",
              "            'suggestCharts', [key], {});\n",
              "      } catch (error) {\n",
              "        console.error('Error during call to suggestCharts:', error);\n",
              "      }\n",
              "      quickchartButtonEl.classList.remove('colab-df-spinner');\n",
              "      quickchartButtonEl.classList.add('colab-df-quickchart-complete');\n",
              "    }\n",
              "    (() => {\n",
              "      let quickchartButtonEl =\n",
              "        document.querySelector('#df-74fe6987-d494-4381-9625-a4617572ddc0 button');\n",
              "      quickchartButtonEl.style.display =\n",
              "        google.colab.kernel.accessAllowed ? 'block' : 'none';\n",
              "    })();\n",
              "  </script>\n",
              "</div>\n",
              "\n",
              "  <div id=\"id_9e4436b8-4620-4128-ac2d-5ef8bd8e0173\">\n",
              "    <style>\n",
              "      .colab-df-generate {\n",
              "        background-color: #E8F0FE;\n",
              "        border: none;\n",
              "        border-radius: 50%;\n",
              "        cursor: pointer;\n",
              "        display: none;\n",
              "        fill: #1967D2;\n",
              "        height: 32px;\n",
              "        padding: 0 0 0 0;\n",
              "        width: 32px;\n",
              "      }\n",
              "\n",
              "      .colab-df-generate:hover {\n",
              "        background-color: #E2EBFA;\n",
              "        box-shadow: 0px 1px 2px rgba(60, 64, 67, 0.3), 0px 1px 3px 1px rgba(60, 64, 67, 0.15);\n",
              "        fill: #174EA6;\n",
              "      }\n",
              "\n",
              "      [theme=dark] .colab-df-generate {\n",
              "        background-color: #3B4455;\n",
              "        fill: #D2E3FC;\n",
              "      }\n",
              "\n",
              "      [theme=dark] .colab-df-generate:hover {\n",
              "        background-color: #434B5C;\n",
              "        box-shadow: 0px 1px 3px 1px rgba(0, 0, 0, 0.15);\n",
              "        filter: drop-shadow(0px 1px 2px rgba(0, 0, 0, 0.3));\n",
              "        fill: #FFFFFF;\n",
              "      }\n",
              "    </style>\n",
              "    <button class=\"colab-df-generate\" onclick=\"generateWithVariable('table_angle_GMS')\"\n",
              "            title=\"Generate code using this dataframe.\"\n",
              "            style=\"display:none;\">\n",
              "\n",
              "  <svg xmlns=\"http://www.w3.org/2000/svg\" height=\"24px\"viewBox=\"0 0 24 24\"\n",
              "       width=\"24px\">\n",
              "    <path d=\"M7,19H8.4L18.45,9,17,7.55,7,17.6ZM5,21V16.75L18.45,3.32a2,2,0,0,1,2.83,0l1.4,1.43a1.91,1.91,0,0,1,.58,1.4,1.91,1.91,0,0,1-.58,1.4L9.25,21ZM18.45,9,17,7.55Zm-12,3A5.31,5.31,0,0,0,4.9,8.1,5.31,5.31,0,0,0,1,6.5,5.31,5.31,0,0,0,4.9,4.9,5.31,5.31,0,0,0,6.5,1,5.31,5.31,0,0,0,8.1,4.9,5.31,5.31,0,0,0,12,6.5,5.46,5.46,0,0,0,6.5,12Z\"/>\n",
              "  </svg>\n",
              "    </button>\n",
              "    <script>\n",
              "      (() => {\n",
              "      const buttonEl =\n",
              "        document.querySelector('#id_9e4436b8-4620-4128-ac2d-5ef8bd8e0173 button.colab-df-generate');\n",
              "      buttonEl.style.display =\n",
              "        google.colab.kernel.accessAllowed ? 'block' : 'none';\n",
              "\n",
              "      buttonEl.onclick = () => {\n",
              "        google.colab.notebook.generateWithVariable('table_angle_GMS');\n",
              "      }\n",
              "      })();\n",
              "    </script>\n",
              "  </div>\n",
              "\n",
              "    </div>\n",
              "  </div>\n"
            ],
            "application/vnd.google.colaboratory.intrinsic+json": {
              "type": "dataframe",
              "variable_name": "table_angle_GMS",
              "summary": "{\n  \"name\": \"table_angle_GMS\",\n  \"rows\": 4,\n  \"fields\": [\n    {\n      \"column\": \"G\",\n      \"properties\": {\n        \"dtype\": \"number\",\n        \"std\": 31,\n        \"min\": 21,\n        \"max\": 90,\n        \"num_unique_values\": 3,\n        \"samples\": [\n          90,\n          30,\n          21\n        ],\n        \"semantic_type\": \"\",\n        \"description\": \"\"\n      }\n    },\n    {\n      \"column\": \"M\",\n      \"properties\": {\n        \"dtype\": \"number\",\n        \"std\": 0,\n        \"min\": 0,\n        \"max\": 0,\n        \"num_unique_values\": 1,\n        \"samples\": [\n          0\n        ],\n        \"semantic_type\": \"\",\n        \"description\": \"\"\n      }\n    },\n    {\n      \"column\": \"S\",\n      \"properties\": {\n        \"dtype\": \"number\",\n        \"std\": 0.49916597106239785,\n        \"min\": 0.0,\n        \"max\": 1.0,\n        \"num_unique_values\": 4,\n        \"samples\": [\n          0.1\n        ],\n        \"semantic_type\": \"\",\n        \"description\": \"\"\n      }\n    }\n  ]\n}"
            }
          },
          "metadata": {}
        }
      ]
    },
    {
      "cell_type": "markdown",
      "source": [
        "#Angulos lidos na poligonal\n"
      ],
      "metadata": {
        "id": "tiwP6AmZrlGa"
      }
    },
    {
      "cell_type": "code",
      "source": [
        "dados_numpy = table_angle_GMS.to_numpy()\n",
        "dados_numpy = Matrix(dados_numpy)\n",
        "\n",
        "dados_numpy"
      ],
      "metadata": {
        "colab": {
          "base_uri": "https://localhost:8080/",
          "height": 98
        },
        "id": "CndVF_sijyMx",
        "outputId": "d052b3e1-6036-45fe-a3d1-81dd2056a7a2"
      },
      "execution_count": 3,
      "outputs": [
        {
          "output_type": "execute_result",
          "data": {
            "text/plain": [
              "Matrix([\n",
              "[90.0, 0.0, 1.0],\n",
              "[30.0, 0.0, 0.1],\n",
              "[30.0, 0.0, 0.8],\n",
              "[21.0, 0.0, 0.0]])"
            ],
            "text/latex": "$\\displaystyle \\left[\\begin{matrix}90.0 & 0.0 & 1.0\\\\30.0 & 0.0 & 0.1\\\\30.0 & 0.0 & 0.8\\\\21.0 & 0.0 & 0.0\\end{matrix}\\right]$"
          },
          "metadata": {},
          "execution_count": 3
        }
      ]
    },
    {
      "cell_type": "code",
      "source": [
        "#para facilitar, entrada dos dados podem ser em Graus Decimais\n",
        "teta1 = 90+0/60+ 1.0/3600\n",
        "teta2 = 30 + 0/60 + 00.1/3600\n",
        "teta3 = 30 + 0/60 + 00.8/3600\n",
        "teta4 = 21 + 0/60 + 00/3600\n",
        "\n",
        "L = sp.Matrix([teta1,teta2,teta3,teta4])\n",
        "L"
      ],
      "metadata": {
        "id": "ATsBuPmOHmJn",
        "colab": {
          "base_uri": "https://localhost:8080/",
          "height": 98
        },
        "outputId": "032c9d0b-924c-4a78-8011-ea3292d41169"
      },
      "execution_count": 4,
      "outputs": [
        {
          "output_type": "execute_result",
          "data": {
            "text/plain": [
              "Matrix([\n",
              "[90.0002777777778],\n",
              "[30.0000277777778],\n",
              "[30.0002222222222],\n",
              "[            21.0]])"
            ],
            "text/latex": "$\\displaystyle \\left[\\begin{matrix}90.0002777777778\\\\30.0000277777778\\\\30.0002222222222\\\\21.0\\end{matrix}\\right]$"
          },
          "metadata": {},
          "execution_count": 4
        }
      ]
    },
    {
      "cell_type": "markdown",
      "source": [
        "#Desvio padrão das medidas\n"
      ],
      "metadata": {
        "id": "Z4aQtlYurr6t"
      }
    },
    {
      "cell_type": "code",
      "source": [
        "desvio_padrao_segundos = input(\"Insira o valor do desvio padrão em segundos: \")"
      ],
      "metadata": {
        "colab": {
          "base_uri": "https://localhost:8080/"
        },
        "id": "huPHwh0_k3Y6",
        "outputId": "6db75aff-35c9-4d16-95df-4da15b785e3f"
      },
      "execution_count": 5,
      "outputs": [
        {
          "name": "stdout",
          "output_type": "stream",
          "text": [
            "Insira o valor do desvio padrão em segundos: 2\n"
          ]
        }
      ]
    },
    {
      "cell_type": "code",
      "source": [
        "desvio_padrao = float(desvio_padrao)\n",
        "desvio_padrao_dec = desvio_padrao/3600\n",
        "desvio_padrao_dec"
      ],
      "metadata": {
        "colab": {
          "base_uri": "https://localhost:8080/"
        },
        "id": "WzgWB-fblJd6",
        "outputId": "530592d1-043c-4577-cfc3-8fd61e36c192"
      },
      "execution_count": 25,
      "outputs": [
        {
          "output_type": "execute_result",
          "data": {
            "text/plain": [
              "0.0005555555555555556"
            ]
          },
          "metadata": {},
          "execution_count": 25
        }
      ]
    },
    {
      "cell_type": "markdown",
      "source": [
        "#Distancias observadas"
      ],
      "metadata": {
        "id": "QMh2Peh6rxgo"
      }
    },
    {
      "cell_type": "code",
      "source": [
        "distancias_lb = pd.read_csv('https://raw.githubusercontent.com/B0ole/exercicioAvaliativo1/main/distancias_observadas_LB',encoding='utf-8')\n",
        "distancias_lb\n",
        "\n"
      ],
      "metadata": {
        "colab": {
          "base_uri": "https://localhost:8080/",
          "height": 143
        },
        "id": "v3d7wTJFlsO6",
        "outputId": "239ec2b8-494b-479b-ce52-cf311a79b816"
      },
      "execution_count": 7,
      "outputs": [
        {
          "output_type": "execute_result",
          "data": {
            "text/plain": [
              "         LB\n",
              "0  1000.000\n",
              "1  1000.005\n",
              "2  1000.010"
            ],
            "text/html": [
              "\n",
              "  <div id=\"df-45075f83-cf90-472d-9267-4e6a0db3f0b9\" class=\"colab-df-container\">\n",
              "    <div>\n",
              "<style scoped>\n",
              "    .dataframe tbody tr th:only-of-type {\n",
              "        vertical-align: middle;\n",
              "    }\n",
              "\n",
              "    .dataframe tbody tr th {\n",
              "        vertical-align: top;\n",
              "    }\n",
              "\n",
              "    .dataframe thead th {\n",
              "        text-align: right;\n",
              "    }\n",
              "</style>\n",
              "<table border=\"1\" class=\"dataframe\">\n",
              "  <thead>\n",
              "    <tr style=\"text-align: right;\">\n",
              "      <th></th>\n",
              "      <th>LB</th>\n",
              "    </tr>\n",
              "  </thead>\n",
              "  <tbody>\n",
              "    <tr>\n",
              "      <th>0</th>\n",
              "      <td>1000.000</td>\n",
              "    </tr>\n",
              "    <tr>\n",
              "      <th>1</th>\n",
              "      <td>1000.005</td>\n",
              "    </tr>\n",
              "    <tr>\n",
              "      <th>2</th>\n",
              "      <td>1000.010</td>\n",
              "    </tr>\n",
              "  </tbody>\n",
              "</table>\n",
              "</div>\n",
              "    <div class=\"colab-df-buttons\">\n",
              "\n",
              "  <div class=\"colab-df-container\">\n",
              "    <button class=\"colab-df-convert\" onclick=\"convertToInteractive('df-45075f83-cf90-472d-9267-4e6a0db3f0b9')\"\n",
              "            title=\"Convert this dataframe to an interactive table.\"\n",
              "            style=\"display:none;\">\n",
              "\n",
              "  <svg xmlns=\"http://www.w3.org/2000/svg\" height=\"24px\" viewBox=\"0 -960 960 960\">\n",
              "    <path d=\"M120-120v-720h720v720H120Zm60-500h600v-160H180v160Zm220 220h160v-160H400v160Zm0 220h160v-160H400v160ZM180-400h160v-160H180v160Zm440 0h160v-160H620v160ZM180-180h160v-160H180v160Zm440 0h160v-160H620v160Z\"/>\n",
              "  </svg>\n",
              "    </button>\n",
              "\n",
              "  <style>\n",
              "    .colab-df-container {\n",
              "      display:flex;\n",
              "      gap: 12px;\n",
              "    }\n",
              "\n",
              "    .colab-df-convert {\n",
              "      background-color: #E8F0FE;\n",
              "      border: none;\n",
              "      border-radius: 50%;\n",
              "      cursor: pointer;\n",
              "      display: none;\n",
              "      fill: #1967D2;\n",
              "      height: 32px;\n",
              "      padding: 0 0 0 0;\n",
              "      width: 32px;\n",
              "    }\n",
              "\n",
              "    .colab-df-convert:hover {\n",
              "      background-color: #E2EBFA;\n",
              "      box-shadow: 0px 1px 2px rgba(60, 64, 67, 0.3), 0px 1px 3px 1px rgba(60, 64, 67, 0.15);\n",
              "      fill: #174EA6;\n",
              "    }\n",
              "\n",
              "    .colab-df-buttons div {\n",
              "      margin-bottom: 4px;\n",
              "    }\n",
              "\n",
              "    [theme=dark] .colab-df-convert {\n",
              "      background-color: #3B4455;\n",
              "      fill: #D2E3FC;\n",
              "    }\n",
              "\n",
              "    [theme=dark] .colab-df-convert:hover {\n",
              "      background-color: #434B5C;\n",
              "      box-shadow: 0px 1px 3px 1px rgba(0, 0, 0, 0.15);\n",
              "      filter: drop-shadow(0px 1px 2px rgba(0, 0, 0, 0.3));\n",
              "      fill: #FFFFFF;\n",
              "    }\n",
              "  </style>\n",
              "\n",
              "    <script>\n",
              "      const buttonEl =\n",
              "        document.querySelector('#df-45075f83-cf90-472d-9267-4e6a0db3f0b9 button.colab-df-convert');\n",
              "      buttonEl.style.display =\n",
              "        google.colab.kernel.accessAllowed ? 'block' : 'none';\n",
              "\n",
              "      async function convertToInteractive(key) {\n",
              "        const element = document.querySelector('#df-45075f83-cf90-472d-9267-4e6a0db3f0b9');\n",
              "        const dataTable =\n",
              "          await google.colab.kernel.invokeFunction('convertToInteractive',\n",
              "                                                    [key], {});\n",
              "        if (!dataTable) return;\n",
              "\n",
              "        const docLinkHtml = 'Like what you see? Visit the ' +\n",
              "          '<a target=\"_blank\" href=https://colab.research.google.com/notebooks/data_table.ipynb>data table notebook</a>'\n",
              "          + ' to learn more about interactive tables.';\n",
              "        element.innerHTML = '';\n",
              "        dataTable['output_type'] = 'display_data';\n",
              "        await google.colab.output.renderOutput(dataTable, element);\n",
              "        const docLink = document.createElement('div');\n",
              "        docLink.innerHTML = docLinkHtml;\n",
              "        element.appendChild(docLink);\n",
              "      }\n",
              "    </script>\n",
              "  </div>\n",
              "\n",
              "\n",
              "<div id=\"df-c545b0bc-b914-4ef6-ac37-18fbd697e9aa\">\n",
              "  <button class=\"colab-df-quickchart\" onclick=\"quickchart('df-c545b0bc-b914-4ef6-ac37-18fbd697e9aa')\"\n",
              "            title=\"Suggest charts\"\n",
              "            style=\"display:none;\">\n",
              "\n",
              "<svg xmlns=\"http://www.w3.org/2000/svg\" height=\"24px\"viewBox=\"0 0 24 24\"\n",
              "     width=\"24px\">\n",
              "    <g>\n",
              "        <path d=\"M19 3H5c-1.1 0-2 .9-2 2v14c0 1.1.9 2 2 2h14c1.1 0 2-.9 2-2V5c0-1.1-.9-2-2-2zM9 17H7v-7h2v7zm4 0h-2V7h2v10zm4 0h-2v-4h2v4z\"/>\n",
              "    </g>\n",
              "</svg>\n",
              "  </button>\n",
              "\n",
              "<style>\n",
              "  .colab-df-quickchart {\n",
              "      --bg-color: #E8F0FE;\n",
              "      --fill-color: #1967D2;\n",
              "      --hover-bg-color: #E2EBFA;\n",
              "      --hover-fill-color: #174EA6;\n",
              "      --disabled-fill-color: #AAA;\n",
              "      --disabled-bg-color: #DDD;\n",
              "  }\n",
              "\n",
              "  [theme=dark] .colab-df-quickchart {\n",
              "      --bg-color: #3B4455;\n",
              "      --fill-color: #D2E3FC;\n",
              "      --hover-bg-color: #434B5C;\n",
              "      --hover-fill-color: #FFFFFF;\n",
              "      --disabled-bg-color: #3B4455;\n",
              "      --disabled-fill-color: #666;\n",
              "  }\n",
              "\n",
              "  .colab-df-quickchart {\n",
              "    background-color: var(--bg-color);\n",
              "    border: none;\n",
              "    border-radius: 50%;\n",
              "    cursor: pointer;\n",
              "    display: none;\n",
              "    fill: var(--fill-color);\n",
              "    height: 32px;\n",
              "    padding: 0;\n",
              "    width: 32px;\n",
              "  }\n",
              "\n",
              "  .colab-df-quickchart:hover {\n",
              "    background-color: var(--hover-bg-color);\n",
              "    box-shadow: 0 1px 2px rgba(60, 64, 67, 0.3), 0 1px 3px 1px rgba(60, 64, 67, 0.15);\n",
              "    fill: var(--button-hover-fill-color);\n",
              "  }\n",
              "\n",
              "  .colab-df-quickchart-complete:disabled,\n",
              "  .colab-df-quickchart-complete:disabled:hover {\n",
              "    background-color: var(--disabled-bg-color);\n",
              "    fill: var(--disabled-fill-color);\n",
              "    box-shadow: none;\n",
              "  }\n",
              "\n",
              "  .colab-df-spinner {\n",
              "    border: 2px solid var(--fill-color);\n",
              "    border-color: transparent;\n",
              "    border-bottom-color: var(--fill-color);\n",
              "    animation:\n",
              "      spin 1s steps(1) infinite;\n",
              "  }\n",
              "\n",
              "  @keyframes spin {\n",
              "    0% {\n",
              "      border-color: transparent;\n",
              "      border-bottom-color: var(--fill-color);\n",
              "      border-left-color: var(--fill-color);\n",
              "    }\n",
              "    20% {\n",
              "      border-color: transparent;\n",
              "      border-left-color: var(--fill-color);\n",
              "      border-top-color: var(--fill-color);\n",
              "    }\n",
              "    30% {\n",
              "      border-color: transparent;\n",
              "      border-left-color: var(--fill-color);\n",
              "      border-top-color: var(--fill-color);\n",
              "      border-right-color: var(--fill-color);\n",
              "    }\n",
              "    40% {\n",
              "      border-color: transparent;\n",
              "      border-right-color: var(--fill-color);\n",
              "      border-top-color: var(--fill-color);\n",
              "    }\n",
              "    60% {\n",
              "      border-color: transparent;\n",
              "      border-right-color: var(--fill-color);\n",
              "    }\n",
              "    80% {\n",
              "      border-color: transparent;\n",
              "      border-right-color: var(--fill-color);\n",
              "      border-bottom-color: var(--fill-color);\n",
              "    }\n",
              "    90% {\n",
              "      border-color: transparent;\n",
              "      border-bottom-color: var(--fill-color);\n",
              "    }\n",
              "  }\n",
              "</style>\n",
              "\n",
              "  <script>\n",
              "    async function quickchart(key) {\n",
              "      const quickchartButtonEl =\n",
              "        document.querySelector('#' + key + ' button');\n",
              "      quickchartButtonEl.disabled = true;  // To prevent multiple clicks.\n",
              "      quickchartButtonEl.classList.add('colab-df-spinner');\n",
              "      try {\n",
              "        const charts = await google.colab.kernel.invokeFunction(\n",
              "            'suggestCharts', [key], {});\n",
              "      } catch (error) {\n",
              "        console.error('Error during call to suggestCharts:', error);\n",
              "      }\n",
              "      quickchartButtonEl.classList.remove('colab-df-spinner');\n",
              "      quickchartButtonEl.classList.add('colab-df-quickchart-complete');\n",
              "    }\n",
              "    (() => {\n",
              "      let quickchartButtonEl =\n",
              "        document.querySelector('#df-c545b0bc-b914-4ef6-ac37-18fbd697e9aa button');\n",
              "      quickchartButtonEl.style.display =\n",
              "        google.colab.kernel.accessAllowed ? 'block' : 'none';\n",
              "    })();\n",
              "  </script>\n",
              "</div>\n",
              "\n",
              "  <div id=\"id_156237ef-c4c8-46a5-99a3-74b1f379d1f5\">\n",
              "    <style>\n",
              "      .colab-df-generate {\n",
              "        background-color: #E8F0FE;\n",
              "        border: none;\n",
              "        border-radius: 50%;\n",
              "        cursor: pointer;\n",
              "        display: none;\n",
              "        fill: #1967D2;\n",
              "        height: 32px;\n",
              "        padding: 0 0 0 0;\n",
              "        width: 32px;\n",
              "      }\n",
              "\n",
              "      .colab-df-generate:hover {\n",
              "        background-color: #E2EBFA;\n",
              "        box-shadow: 0px 1px 2px rgba(60, 64, 67, 0.3), 0px 1px 3px 1px rgba(60, 64, 67, 0.15);\n",
              "        fill: #174EA6;\n",
              "      }\n",
              "\n",
              "      [theme=dark] .colab-df-generate {\n",
              "        background-color: #3B4455;\n",
              "        fill: #D2E3FC;\n",
              "      }\n",
              "\n",
              "      [theme=dark] .colab-df-generate:hover {\n",
              "        background-color: #434B5C;\n",
              "        box-shadow: 0px 1px 3px 1px rgba(0, 0, 0, 0.15);\n",
              "        filter: drop-shadow(0px 1px 2px rgba(0, 0, 0, 0.3));\n",
              "        fill: #FFFFFF;\n",
              "      }\n",
              "    </style>\n",
              "    <button class=\"colab-df-generate\" onclick=\"generateWithVariable('distancias_lb')\"\n",
              "            title=\"Generate code using this dataframe.\"\n",
              "            style=\"display:none;\">\n",
              "\n",
              "  <svg xmlns=\"http://www.w3.org/2000/svg\" height=\"24px\"viewBox=\"0 0 24 24\"\n",
              "       width=\"24px\">\n",
              "    <path d=\"M7,19H8.4L18.45,9,17,7.55,7,17.6ZM5,21V16.75L18.45,3.32a2,2,0,0,1,2.83,0l1.4,1.43a1.91,1.91,0,0,1,.58,1.4,1.91,1.91,0,0,1-.58,1.4L9.25,21ZM18.45,9,17,7.55Zm-12,3A5.31,5.31,0,0,0,4.9,8.1,5.31,5.31,0,0,0,1,6.5,5.31,5.31,0,0,0,4.9,4.9,5.31,5.31,0,0,0,6.5,1,5.31,5.31,0,0,0,8.1,4.9,5.31,5.31,0,0,0,12,6.5,5.46,5.46,0,0,0,6.5,12Z\"/>\n",
              "  </svg>\n",
              "    </button>\n",
              "    <script>\n",
              "      (() => {\n",
              "      const buttonEl =\n",
              "        document.querySelector('#id_156237ef-c4c8-46a5-99a3-74b1f379d1f5 button.colab-df-generate');\n",
              "      buttonEl.style.display =\n",
              "        google.colab.kernel.accessAllowed ? 'block' : 'none';\n",
              "\n",
              "      buttonEl.onclick = () => {\n",
              "        google.colab.notebook.generateWithVariable('distancias_lb');\n",
              "      }\n",
              "      })();\n",
              "    </script>\n",
              "  </div>\n",
              "\n",
              "    </div>\n",
              "  </div>\n"
            ],
            "application/vnd.google.colaboratory.intrinsic+json": {
              "type": "dataframe",
              "variable_name": "distancias_lb",
              "summary": "{\n  \"name\": \"distancias_lb\",\n  \"rows\": 3,\n  \"fields\": [\n    {\n      \"column\": \"LB\",\n      \"properties\": {\n        \"dtype\": \"number\",\n        \"std\": 0.0049999999999954525,\n        \"min\": 1000.0,\n        \"max\": 1000.01,\n        \"num_unique_values\": 3,\n        \"samples\": [\n          1000.0,\n          1000.005,\n          1000.01\n        ],\n        \"semantic_type\": \"\",\n        \"description\": \"\"\n      }\n    }\n  ]\n}"
            }
          },
          "metadata": {},
          "execution_count": 7
        }
      ]
    },
    {
      "cell_type": "code",
      "source": [
        "dados = distancias_lb.to_numpy()\n",
        "dados = Matrix(dados)\n",
        "\n",
        "dados"
      ],
      "metadata": {
        "colab": {
          "base_uri": "https://localhost:8080/",
          "height": 78
        },
        "id": "-LUM-5T9pxSU",
        "outputId": "9108bbeb-169e-4029-cbfb-6d6369f80b23"
      },
      "execution_count": 8,
      "outputs": [
        {
          "output_type": "execute_result",
          "data": {
            "text/plain": [
              "Matrix([\n",
              "[  1000.0],\n",
              "[1000.005],\n",
              "[ 1000.01]])"
            ],
            "text/latex": "$\\displaystyle \\left[\\begin{matrix}1000.0\\\\1000.005\\\\1000.01\\end{matrix}\\right]$"
          },
          "metadata": {},
          "execution_count": 8
        }
      ]
    },
    {
      "cell_type": "code",
      "source": [
        "desvio1 = 1.9"
      ],
      "metadata": {
        "id": "oTor97kaz_dZ"
      },
      "execution_count": 35,
      "outputs": []
    },
    {
      "cell_type": "code",
      "source": [
        "desvio2 = desvio1/3600 #desvio de segundos para grausdeciamis\n",
        "desvio2"
      ],
      "metadata": {
        "colab": {
          "base_uri": "https://localhost:8080/"
        },
        "id": "XBBaoouF0AqZ",
        "outputId": "b857bf8f-e27b-4640-af60-3e8cfd40d106"
      },
      "execution_count": 36,
      "outputs": [
        {
          "output_type": "execute_result",
          "data": {
            "text/plain": [
              "0.0005277777777777777"
            ]
          },
          "metadata": {},
          "execution_count": 36
        }
      ]
    },
    {
      "cell_type": "code",
      "source": [
        "desvio3 = desvio2*(mt.pi/180)\n",
        "desvio3"
      ],
      "metadata": {
        "colab": {
          "base_uri": "https://localhost:8080/"
        },
        "id": "dGh6W-Pv0K_V",
        "outputId": "accdc88e-c3d7-4868-d71d-b9a56eea3ac3"
      },
      "execution_count": 37,
      "outputs": [
        {
          "output_type": "execute_result",
          "data": {
            "text/plain": [
              "9.211459941081183e-06"
            ]
          },
          "metadata": {},
          "execution_count": 37
        }
      ]
    },
    {
      "cell_type": "code",
      "source": [
        "desviopadrao_mm = input(\"Insira o valor do desvio padrao: \\n\")"
      ],
      "metadata": {
        "colab": {
          "base_uri": "https://localhost:8080/"
        },
        "id": "ctGfpfnHrrOW",
        "outputId": "16b9344e-a253-4ce4-da7e-edc771933055"
      },
      "execution_count": 27,
      "outputs": [
        {
          "name": "stdout",
          "output_type": "stream",
          "text": [
            "Insira o valor do desvio padrao: \n",
            "2\n"
          ]
        }
      ]
    },
    {
      "cell_type": "code",
      "source": [
        "ppm = input(\"insira o valor em ppm: \\n\")\n"
      ],
      "metadata": {
        "colab": {
          "base_uri": "https://localhost:8080/"
        },
        "id": "V2dfok33rzVN",
        "outputId": "f5e9d555-f4ec-4570-d8d6-6828017a6ae4"
      },
      "execution_count": 10,
      "outputs": [
        {
          "name": "stdout",
          "output_type": "stream",
          "text": [
            "insira o valor em ppm: \n",
            "2\n"
          ]
        }
      ]
    },
    {
      "cell_type": "markdown",
      "source": [
        "Coordenadas (x,y) iniciais de apoio"
      ],
      "metadata": {
        "id": "ipi-mCOqrWH9"
      }
    },
    {
      "cell_type": "markdown",
      "source": [],
      "metadata": {
        "id": "m7ZkoOiVrVv4"
      }
    },
    {
      "cell_type": "code",
      "source": [
        "pontos_apoio = pd.read_csv('https://raw.githubusercontent.com/B0ole/exercicioAvaliativo1/main/pontos', encoding='utf-8')\n",
        "display(pontos_apoio)"
      ],
      "metadata": {
        "colab": {
          "base_uri": "https://localhost:8080/",
          "height": 89
        },
        "id": "0OzMSj_HtN1d",
        "outputId": "d20cbf2f-2aa0-495a-e137-1429bcaa5c2a"
      },
      "execution_count": 11,
      "outputs": [
        {
          "output_type": "display_data",
          "data": {
            "text/plain": [
              "   Coordenadas X     Y\n",
              "0           1000  1000"
            ],
            "text/html": [
              "\n",
              "  <div id=\"df-2b7fcd50-7689-4af4-8a71-a3ccffa4634a\" class=\"colab-df-container\">\n",
              "    <div>\n",
              "<style scoped>\n",
              "    .dataframe tbody tr th:only-of-type {\n",
              "        vertical-align: middle;\n",
              "    }\n",
              "\n",
              "    .dataframe tbody tr th {\n",
              "        vertical-align: top;\n",
              "    }\n",
              "\n",
              "    .dataframe thead th {\n",
              "        text-align: right;\n",
              "    }\n",
              "</style>\n",
              "<table border=\"1\" class=\"dataframe\">\n",
              "  <thead>\n",
              "    <tr style=\"text-align: right;\">\n",
              "      <th></th>\n",
              "      <th>Coordenadas X</th>\n",
              "      <th>Y</th>\n",
              "    </tr>\n",
              "  </thead>\n",
              "  <tbody>\n",
              "    <tr>\n",
              "      <th>0</th>\n",
              "      <td>1000</td>\n",
              "      <td>1000</td>\n",
              "    </tr>\n",
              "  </tbody>\n",
              "</table>\n",
              "</div>\n",
              "    <div class=\"colab-df-buttons\">\n",
              "\n",
              "  <div class=\"colab-df-container\">\n",
              "    <button class=\"colab-df-convert\" onclick=\"convertToInteractive('df-2b7fcd50-7689-4af4-8a71-a3ccffa4634a')\"\n",
              "            title=\"Convert this dataframe to an interactive table.\"\n",
              "            style=\"display:none;\">\n",
              "\n",
              "  <svg xmlns=\"http://www.w3.org/2000/svg\" height=\"24px\" viewBox=\"0 -960 960 960\">\n",
              "    <path d=\"M120-120v-720h720v720H120Zm60-500h600v-160H180v160Zm220 220h160v-160H400v160Zm0 220h160v-160H400v160ZM180-400h160v-160H180v160Zm440 0h160v-160H620v160ZM180-180h160v-160H180v160Zm440 0h160v-160H620v160Z\"/>\n",
              "  </svg>\n",
              "    </button>\n",
              "\n",
              "  <style>\n",
              "    .colab-df-container {\n",
              "      display:flex;\n",
              "      gap: 12px;\n",
              "    }\n",
              "\n",
              "    .colab-df-convert {\n",
              "      background-color: #E8F0FE;\n",
              "      border: none;\n",
              "      border-radius: 50%;\n",
              "      cursor: pointer;\n",
              "      display: none;\n",
              "      fill: #1967D2;\n",
              "      height: 32px;\n",
              "      padding: 0 0 0 0;\n",
              "      width: 32px;\n",
              "    }\n",
              "\n",
              "    .colab-df-convert:hover {\n",
              "      background-color: #E2EBFA;\n",
              "      box-shadow: 0px 1px 2px rgba(60, 64, 67, 0.3), 0px 1px 3px 1px rgba(60, 64, 67, 0.15);\n",
              "      fill: #174EA6;\n",
              "    }\n",
              "\n",
              "    .colab-df-buttons div {\n",
              "      margin-bottom: 4px;\n",
              "    }\n",
              "\n",
              "    [theme=dark] .colab-df-convert {\n",
              "      background-color: #3B4455;\n",
              "      fill: #D2E3FC;\n",
              "    }\n",
              "\n",
              "    [theme=dark] .colab-df-convert:hover {\n",
              "      background-color: #434B5C;\n",
              "      box-shadow: 0px 1px 3px 1px rgba(0, 0, 0, 0.15);\n",
              "      filter: drop-shadow(0px 1px 2px rgba(0, 0, 0, 0.3));\n",
              "      fill: #FFFFFF;\n",
              "    }\n",
              "  </style>\n",
              "\n",
              "    <script>\n",
              "      const buttonEl =\n",
              "        document.querySelector('#df-2b7fcd50-7689-4af4-8a71-a3ccffa4634a button.colab-df-convert');\n",
              "      buttonEl.style.display =\n",
              "        google.colab.kernel.accessAllowed ? 'block' : 'none';\n",
              "\n",
              "      async function convertToInteractive(key) {\n",
              "        const element = document.querySelector('#df-2b7fcd50-7689-4af4-8a71-a3ccffa4634a');\n",
              "        const dataTable =\n",
              "          await google.colab.kernel.invokeFunction('convertToInteractive',\n",
              "                                                    [key], {});\n",
              "        if (!dataTable) return;\n",
              "\n",
              "        const docLinkHtml = 'Like what you see? Visit the ' +\n",
              "          '<a target=\"_blank\" href=https://colab.research.google.com/notebooks/data_table.ipynb>data table notebook</a>'\n",
              "          + ' to learn more about interactive tables.';\n",
              "        element.innerHTML = '';\n",
              "        dataTable['output_type'] = 'display_data';\n",
              "        await google.colab.output.renderOutput(dataTable, element);\n",
              "        const docLink = document.createElement('div');\n",
              "        docLink.innerHTML = docLinkHtml;\n",
              "        element.appendChild(docLink);\n",
              "      }\n",
              "    </script>\n",
              "  </div>\n",
              "\n",
              "\n",
              "  <div id=\"id_c5c2629d-5ac5-40d5-8cb7-547088a1e180\">\n",
              "    <style>\n",
              "      .colab-df-generate {\n",
              "        background-color: #E8F0FE;\n",
              "        border: none;\n",
              "        border-radius: 50%;\n",
              "        cursor: pointer;\n",
              "        display: none;\n",
              "        fill: #1967D2;\n",
              "        height: 32px;\n",
              "        padding: 0 0 0 0;\n",
              "        width: 32px;\n",
              "      }\n",
              "\n",
              "      .colab-df-generate:hover {\n",
              "        background-color: #E2EBFA;\n",
              "        box-shadow: 0px 1px 2px rgba(60, 64, 67, 0.3), 0px 1px 3px 1px rgba(60, 64, 67, 0.15);\n",
              "        fill: #174EA6;\n",
              "      }\n",
              "\n",
              "      [theme=dark] .colab-df-generate {\n",
              "        background-color: #3B4455;\n",
              "        fill: #D2E3FC;\n",
              "      }\n",
              "\n",
              "      [theme=dark] .colab-df-generate:hover {\n",
              "        background-color: #434B5C;\n",
              "        box-shadow: 0px 1px 3px 1px rgba(0, 0, 0, 0.15);\n",
              "        filter: drop-shadow(0px 1px 2px rgba(0, 0, 0, 0.3));\n",
              "        fill: #FFFFFF;\n",
              "      }\n",
              "    </style>\n",
              "    <button class=\"colab-df-generate\" onclick=\"generateWithVariable('pontos_apoio')\"\n",
              "            title=\"Generate code using this dataframe.\"\n",
              "            style=\"display:none;\">\n",
              "\n",
              "  <svg xmlns=\"http://www.w3.org/2000/svg\" height=\"24px\"viewBox=\"0 0 24 24\"\n",
              "       width=\"24px\">\n",
              "    <path d=\"M7,19H8.4L18.45,9,17,7.55,7,17.6ZM5,21V16.75L18.45,3.32a2,2,0,0,1,2.83,0l1.4,1.43a1.91,1.91,0,0,1,.58,1.4,1.91,1.91,0,0,1-.58,1.4L9.25,21ZM18.45,9,17,7.55Zm-12,3A5.31,5.31,0,0,0,4.9,8.1,5.31,5.31,0,0,0,1,6.5,5.31,5.31,0,0,0,4.9,4.9,5.31,5.31,0,0,0,6.5,1,5.31,5.31,0,0,0,8.1,4.9,5.31,5.31,0,0,0,12,6.5,5.46,5.46,0,0,0,6.5,12Z\"/>\n",
              "  </svg>\n",
              "    </button>\n",
              "    <script>\n",
              "      (() => {\n",
              "      const buttonEl =\n",
              "        document.querySelector('#id_c5c2629d-5ac5-40d5-8cb7-547088a1e180 button.colab-df-generate');\n",
              "      buttonEl.style.display =\n",
              "        google.colab.kernel.accessAllowed ? 'block' : 'none';\n",
              "\n",
              "      buttonEl.onclick = () => {\n",
              "        google.colab.notebook.generateWithVariable('pontos_apoio');\n",
              "      }\n",
              "      })();\n",
              "    </script>\n",
              "  </div>\n",
              "\n",
              "    </div>\n",
              "  </div>\n"
            ],
            "application/vnd.google.colaboratory.intrinsic+json": {
              "type": "dataframe",
              "variable_name": "pontos_apoio",
              "summary": "{\n  \"name\": \"pontos_apoio\",\n  \"rows\": 1,\n  \"fields\": [\n    {\n      \"column\": \"Coordenadas X\",\n      \"properties\": {\n        \"dtype\": \"number\",\n        \"std\": null,\n        \"min\": 1000,\n        \"max\": 1000,\n        \"num_unique_values\": 1,\n        \"samples\": [\n          1000\n        ],\n        \"semantic_type\": \"\",\n        \"description\": \"\"\n      }\n    },\n    {\n      \"column\": \" Y\",\n      \"properties\": {\n        \"dtype\": \"number\",\n        \"std\": null,\n        \"min\": 1000,\n        \"max\": 1000,\n        \"num_unique_values\": 1,\n        \"samples\": [\n          1000\n        ],\n        \"semantic_type\": \"\",\n        \"description\": \"\"\n      }\n    }\n  ]\n}"
            }
          },
          "metadata": {}
        }
      ]
    },
    {
      "cell_type": "code",
      "source": [
        "pontos_apoio = pontos_apoio.to_numpy()\n",
        "pontos_apoio = Matrix(pontos_apoio)\n",
        "pontos_apoio"
      ],
      "metadata": {
        "colab": {
          "base_uri": "https://localhost:8080/",
          "height": 38
        },
        "id": "1j7jui5SqtOy",
        "outputId": "bd5dd01a-667d-44a4-9e5c-fc85ba1d07fb"
      },
      "execution_count": 13,
      "outputs": [
        {
          "output_type": "execute_result",
          "data": {
            "text/plain": [
              "Matrix([[1000, 1000]])"
            ],
            "text/latex": "$\\displaystyle \\left[\\begin{matrix}1000 & 1000\\end{matrix}\\right]$"
          },
          "metadata": {},
          "execution_count": 13
        }
      ]
    },
    {
      "cell_type": "markdown",
      "source": [
        "Leitura do Azimute Fixo"
      ],
      "metadata": {
        "id": "jbE15m0mrcrk"
      }
    },
    {
      "cell_type": "code",
      "source": [
        "#Leitura do azimute fixo\n",
        "\n",
        "Az_Fixo = pd.read_csv('https://raw.githubusercontent.com/B0ole/exercicioAvaliativo1/main/Az_fixo', encoding = 'utf-8')\n",
        "display(Az_Fixo)"
      ],
      "metadata": {
        "colab": {
          "base_uri": "https://localhost:8080/",
          "height": 89
        },
        "id": "qs0CcHsjrAgd",
        "outputId": "673b12e6-8f1c-4f27-93b3-0728c5105211"
      },
      "execution_count": 14,
      "outputs": [
        {
          "output_type": "display_data",
          "data": {
            "text/plain": [
              "     G  M  S\n",
              "0  315  0  0"
            ],
            "text/html": [
              "\n",
              "  <div id=\"df-7791213b-9c80-4978-bf5b-829cd8380148\" class=\"colab-df-container\">\n",
              "    <div>\n",
              "<style scoped>\n",
              "    .dataframe tbody tr th:only-of-type {\n",
              "        vertical-align: middle;\n",
              "    }\n",
              "\n",
              "    .dataframe tbody tr th {\n",
              "        vertical-align: top;\n",
              "    }\n",
              "\n",
              "    .dataframe thead th {\n",
              "        text-align: right;\n",
              "    }\n",
              "</style>\n",
              "<table border=\"1\" class=\"dataframe\">\n",
              "  <thead>\n",
              "    <tr style=\"text-align: right;\">\n",
              "      <th></th>\n",
              "      <th>G</th>\n",
              "      <th>M</th>\n",
              "      <th>S</th>\n",
              "    </tr>\n",
              "  </thead>\n",
              "  <tbody>\n",
              "    <tr>\n",
              "      <th>0</th>\n",
              "      <td>315</td>\n",
              "      <td>0</td>\n",
              "      <td>0</td>\n",
              "    </tr>\n",
              "  </tbody>\n",
              "</table>\n",
              "</div>\n",
              "    <div class=\"colab-df-buttons\">\n",
              "\n",
              "  <div class=\"colab-df-container\">\n",
              "    <button class=\"colab-df-convert\" onclick=\"convertToInteractive('df-7791213b-9c80-4978-bf5b-829cd8380148')\"\n",
              "            title=\"Convert this dataframe to an interactive table.\"\n",
              "            style=\"display:none;\">\n",
              "\n",
              "  <svg xmlns=\"http://www.w3.org/2000/svg\" height=\"24px\" viewBox=\"0 -960 960 960\">\n",
              "    <path d=\"M120-120v-720h720v720H120Zm60-500h600v-160H180v160Zm220 220h160v-160H400v160Zm0 220h160v-160H400v160ZM180-400h160v-160H180v160Zm440 0h160v-160H620v160ZM180-180h160v-160H180v160Zm440 0h160v-160H620v160Z\"/>\n",
              "  </svg>\n",
              "    </button>\n",
              "\n",
              "  <style>\n",
              "    .colab-df-container {\n",
              "      display:flex;\n",
              "      gap: 12px;\n",
              "    }\n",
              "\n",
              "    .colab-df-convert {\n",
              "      background-color: #E8F0FE;\n",
              "      border: none;\n",
              "      border-radius: 50%;\n",
              "      cursor: pointer;\n",
              "      display: none;\n",
              "      fill: #1967D2;\n",
              "      height: 32px;\n",
              "      padding: 0 0 0 0;\n",
              "      width: 32px;\n",
              "    }\n",
              "\n",
              "    .colab-df-convert:hover {\n",
              "      background-color: #E2EBFA;\n",
              "      box-shadow: 0px 1px 2px rgba(60, 64, 67, 0.3), 0px 1px 3px 1px rgba(60, 64, 67, 0.15);\n",
              "      fill: #174EA6;\n",
              "    }\n",
              "\n",
              "    .colab-df-buttons div {\n",
              "      margin-bottom: 4px;\n",
              "    }\n",
              "\n",
              "    [theme=dark] .colab-df-convert {\n",
              "      background-color: #3B4455;\n",
              "      fill: #D2E3FC;\n",
              "    }\n",
              "\n",
              "    [theme=dark] .colab-df-convert:hover {\n",
              "      background-color: #434B5C;\n",
              "      box-shadow: 0px 1px 3px 1px rgba(0, 0, 0, 0.15);\n",
              "      filter: drop-shadow(0px 1px 2px rgba(0, 0, 0, 0.3));\n",
              "      fill: #FFFFFF;\n",
              "    }\n",
              "  </style>\n",
              "\n",
              "    <script>\n",
              "      const buttonEl =\n",
              "        document.querySelector('#df-7791213b-9c80-4978-bf5b-829cd8380148 button.colab-df-convert');\n",
              "      buttonEl.style.display =\n",
              "        google.colab.kernel.accessAllowed ? 'block' : 'none';\n",
              "\n",
              "      async function convertToInteractive(key) {\n",
              "        const element = document.querySelector('#df-7791213b-9c80-4978-bf5b-829cd8380148');\n",
              "        const dataTable =\n",
              "          await google.colab.kernel.invokeFunction('convertToInteractive',\n",
              "                                                    [key], {});\n",
              "        if (!dataTable) return;\n",
              "\n",
              "        const docLinkHtml = 'Like what you see? Visit the ' +\n",
              "          '<a target=\"_blank\" href=https://colab.research.google.com/notebooks/data_table.ipynb>data table notebook</a>'\n",
              "          + ' to learn more about interactive tables.';\n",
              "        element.innerHTML = '';\n",
              "        dataTable['output_type'] = 'display_data';\n",
              "        await google.colab.output.renderOutput(dataTable, element);\n",
              "        const docLink = document.createElement('div');\n",
              "        docLink.innerHTML = docLinkHtml;\n",
              "        element.appendChild(docLink);\n",
              "      }\n",
              "    </script>\n",
              "  </div>\n",
              "\n",
              "\n",
              "  <div id=\"id_30d2ca27-7346-4994-86ef-401e2af2d592\">\n",
              "    <style>\n",
              "      .colab-df-generate {\n",
              "        background-color: #E8F0FE;\n",
              "        border: none;\n",
              "        border-radius: 50%;\n",
              "        cursor: pointer;\n",
              "        display: none;\n",
              "        fill: #1967D2;\n",
              "        height: 32px;\n",
              "        padding: 0 0 0 0;\n",
              "        width: 32px;\n",
              "      }\n",
              "\n",
              "      .colab-df-generate:hover {\n",
              "        background-color: #E2EBFA;\n",
              "        box-shadow: 0px 1px 2px rgba(60, 64, 67, 0.3), 0px 1px 3px 1px rgba(60, 64, 67, 0.15);\n",
              "        fill: #174EA6;\n",
              "      }\n",
              "\n",
              "      [theme=dark] .colab-df-generate {\n",
              "        background-color: #3B4455;\n",
              "        fill: #D2E3FC;\n",
              "      }\n",
              "\n",
              "      [theme=dark] .colab-df-generate:hover {\n",
              "        background-color: #434B5C;\n",
              "        box-shadow: 0px 1px 3px 1px rgba(0, 0, 0, 0.15);\n",
              "        filter: drop-shadow(0px 1px 2px rgba(0, 0, 0, 0.3));\n",
              "        fill: #FFFFFF;\n",
              "      }\n",
              "    </style>\n",
              "    <button class=\"colab-df-generate\" onclick=\"generateWithVariable('Az_Fixo')\"\n",
              "            title=\"Generate code using this dataframe.\"\n",
              "            style=\"display:none;\">\n",
              "\n",
              "  <svg xmlns=\"http://www.w3.org/2000/svg\" height=\"24px\"viewBox=\"0 0 24 24\"\n",
              "       width=\"24px\">\n",
              "    <path d=\"M7,19H8.4L18.45,9,17,7.55,7,17.6ZM5,21V16.75L18.45,3.32a2,2,0,0,1,2.83,0l1.4,1.43a1.91,1.91,0,0,1,.58,1.4,1.91,1.91,0,0,1-.58,1.4L9.25,21ZM18.45,9,17,7.55Zm-12,3A5.31,5.31,0,0,0,4.9,8.1,5.31,5.31,0,0,0,1,6.5,5.31,5.31,0,0,0,4.9,4.9,5.31,5.31,0,0,0,6.5,1,5.31,5.31,0,0,0,8.1,4.9,5.31,5.31,0,0,0,12,6.5,5.46,5.46,0,0,0,6.5,12Z\"/>\n",
              "  </svg>\n",
              "    </button>\n",
              "    <script>\n",
              "      (() => {\n",
              "      const buttonEl =\n",
              "        document.querySelector('#id_30d2ca27-7346-4994-86ef-401e2af2d592 button.colab-df-generate');\n",
              "      buttonEl.style.display =\n",
              "        google.colab.kernel.accessAllowed ? 'block' : 'none';\n",
              "\n",
              "      buttonEl.onclick = () => {\n",
              "        google.colab.notebook.generateWithVariable('Az_Fixo');\n",
              "      }\n",
              "      })();\n",
              "    </script>\n",
              "  </div>\n",
              "\n",
              "    </div>\n",
              "  </div>\n"
            ],
            "application/vnd.google.colaboratory.intrinsic+json": {
              "type": "dataframe",
              "variable_name": "Az_Fixo",
              "summary": "{\n  \"name\": \"Az_Fixo\",\n  \"rows\": 1,\n  \"fields\": [\n    {\n      \"column\": \"G\",\n      \"properties\": {\n        \"dtype\": \"number\",\n        \"std\": null,\n        \"min\": 315,\n        \"max\": 315,\n        \"num_unique_values\": 1,\n        \"samples\": [\n          315\n        ],\n        \"semantic_type\": \"\",\n        \"description\": \"\"\n      }\n    },\n    {\n      \"column\": \"M\",\n      \"properties\": {\n        \"dtype\": \"number\",\n        \"std\": null,\n        \"min\": 0,\n        \"max\": 0,\n        \"num_unique_values\": 1,\n        \"samples\": [\n          0\n        ],\n        \"semantic_type\": \"\",\n        \"description\": \"\"\n      }\n    },\n    {\n      \"column\": \"S\",\n      \"properties\": {\n        \"dtype\": \"number\",\n        \"std\": null,\n        \"min\": 0,\n        \"max\": 0,\n        \"num_unique_values\": 1,\n        \"samples\": [\n          0\n        ],\n        \"semantic_type\": \"\",\n        \"description\": \"\"\n      }\n    }\n  ]\n}"
            }
          },
          "metadata": {}
        }
      ]
    },
    {
      "cell_type": "code",
      "source": [
        "Az_Fixo = Az_Fixo.to_numpy()\n",
        "Az_Fixo = Matrix(Az_Fixo)\n",
        "Az_Fixo"
      ],
      "metadata": {
        "colab": {
          "base_uri": "https://localhost:8080/",
          "height": 38
        },
        "id": "TP-f-x9srLUY",
        "outputId": "acbe4d45-5fb3-4e79-e722-3f383cc18400"
      },
      "execution_count": 15,
      "outputs": [
        {
          "output_type": "execute_result",
          "data": {
            "text/plain": [
              "Matrix([[315, 0, 0]])"
            ],
            "text/latex": "$\\displaystyle \\left[\\begin{matrix}315 & 0 & 0\\end{matrix}\\right]$"
          },
          "metadata": {},
          "execution_count": 15
        }
      ]
    },
    {
      "cell_type": "code",
      "source": [
        "#Conversão de GMS para Graus Decimais\n",
        "\n",
        "Az_fixo_decimal = Az_Fixo[0,0]+ (Az_Fixo[0,1]/60) + (Az_Fixo[0,2]/3600)\n",
        "Az_fixo_decimal"
      ],
      "metadata": {
        "colab": {
          "base_uri": "https://localhost:8080/",
          "height": 37
        },
        "id": "Vq7L4bT2r9wO",
        "outputId": "76095fcf-d399-4ab5-ca93-5f444453e41a"
      },
      "execution_count": 16,
      "outputs": [
        {
          "output_type": "execute_result",
          "data": {
            "text/plain": [
              "315"
            ],
            "text/latex": "$\\displaystyle 315$"
          },
          "metadata": {},
          "execution_count": 16
        }
      ]
    },
    {
      "cell_type": "markdown",
      "source": [
        "#Azimutes Provisórios"
      ],
      "metadata": {
        "id": "PU_jIgMosM-G"
      }
    },
    {
      "cell_type": "code",
      "source": [
        "Azimutes_provisorios_GMS = sp.Matrix([[45,0,1],[165,0,1.1],[285,0,1.9],[315,0,1.9]])\n",
        "Azimutes_provisorios_GMS"
      ],
      "metadata": {
        "colab": {
          "base_uri": "https://localhost:8080/",
          "height": 98
        },
        "id": "Fu8XXM9FsQFz",
        "outputId": "3a32f674-fa98-4bf9-e826-61e9e00d7c1f"
      },
      "execution_count": 17,
      "outputs": [
        {
          "output_type": "execute_result",
          "data": {
            "text/plain": [
              "Matrix([\n",
              "[ 45, 0,   1],\n",
              "[165, 0, 1.1],\n",
              "[285, 0, 1.9],\n",
              "[315, 0, 1.9]])"
            ],
            "text/latex": "$\\displaystyle \\left[\\begin{matrix}45 & 0 & 1\\\\165 & 0 & 1.1\\\\285 & 0 & 1.9\\\\315 & 0 & 1.9\\end{matrix}\\right]$"
          },
          "metadata": {},
          "execution_count": 17
        }
      ]
    },
    {
      "cell_type": "code",
      "source": [
        "Azimutes_provisorios_decimal1 = Azimutes_provisorios_GMS[0,0] + (Azimutes_provisorios_GMS[0,1]/60) + (Azimutes_provisorios_GMS[0,2]/3600)\n",
        "Azimutes_provisorios_decimal2 = Azimutes_provisorios_GMS[1,0] + (Azimutes_provisorios_GMS[1,1]/60) + (Azimutes_provisorios_GMS[1,2]/3600)\n",
        "Azimutes_provisorios_decimal3 = Azimutes_provisorios_GMS[2,0] + (Azimutes_provisorios_GMS[2,1]/60) + (Azimutes_provisorios_GMS[2,2]/3600)\n",
        "az_total_dec = sp.Matrix([Azimutes_provisorios_decimal1,Azimutes_provisorios_decimal2,Azimutes_provisorios_decimal3])\n",
        "az_total_dec"
      ],
      "metadata": {
        "colab": {
          "base_uri": "https://localhost:8080/",
          "height": 78
        },
        "id": "Ue3kfuJjscKS",
        "outputId": "36ed8ae1-c697-40fe-8443-4c29604ed0d9"
      },
      "execution_count": 18,
      "outputs": [
        {
          "output_type": "execute_result",
          "data": {
            "text/plain": [
              "Matrix([\n",
              "[     162001/3600],\n",
              "[165.000305555556],\n",
              "[285.000527777778]])"
            ],
            "text/latex": "$\\displaystyle \\left[\\begin{matrix}\\frac{162001}{3600}\\\\165.000305555556\\\\285.000527777778\\end{matrix}\\right]$"
          },
          "metadata": {},
          "execution_count": 18
        }
      ]
    },
    {
      "cell_type": "code",
      "source": [
        "#Azimute em radianos\n",
        "\n",
        "Azimute_radiano = az_total_dec * (mt.pi/180)\n",
        "Azimute_radiano"
      ],
      "metadata": {
        "colab": {
          "base_uri": "https://localhost:8080/",
          "height": 78
        },
        "id": "rwqLCePTs3w4",
        "outputId": "590b239a-f23e-47ce-abef-5d135c839c25"
      },
      "execution_count": 38,
      "outputs": [
        {
          "output_type": "execute_result",
          "data": {
            "text/plain": [
              "Matrix([\n",
              "[0.785403011534259],\n",
              "[ 2.87979859874114],\n",
              "[ 4.97419757964378]])"
            ],
            "text/latex": "$\\displaystyle \\left[\\begin{matrix}0.785403011534259\\\\2.87979859874114\\\\4.97419757964378\\end{matrix}\\right]$"
          },
          "metadata": {},
          "execution_count": 38
        }
      ]
    },
    {
      "cell_type": "code",
      "source": [
        "#Agora convertemos para radianos os azimutes\n",
        "Az_rad = (mt.pi/180)*az_total_dec\n",
        "Az_rad"
      ],
      "metadata": {
        "colab": {
          "base_uri": "https://localhost:8080/",
          "height": 78
        },
        "id": "Wr1xsemLs_Pq",
        "outputId": "9ec794cf-9c55-4006-b5eb-ec138c4ee349"
      },
      "execution_count": 23,
      "outputs": [
        {
          "output_type": "execute_result",
          "data": {
            "text/plain": [
              "Matrix([\n",
              "[0.785403011534259],\n",
              "[ 2.87979859874114],\n",
              "[ 4.97419757964378]])"
            ],
            "text/latex": "$\\displaystyle \\left[\\begin{matrix}0.785403011534259\\\\2.87979859874114\\\\4.97419757964378\\end{matrix}\\right]$"
          },
          "metadata": {},
          "execution_count": 23
        }
      ]
    },
    {
      "cell_type": "code",
      "source": [
        "\n",
        "desvio_padraoAzi_rad = desv_pad_az * (mt.pi/180)\n",
        "desvio_padraoAzi_rad"
      ],
      "metadata": {
        "colab": {
          "base_uri": "https://localhost:8080/"
        },
        "id": "qd7VGGfryZt-",
        "outputId": "46c097b4-ec10-4e64-8c0d-0f32d65a4b49"
      },
      "execution_count": 31,
      "outputs": [
        {
          "output_type": "execute_result",
          "data": {
            "text/plain": [
              "9.211459941081183e-06"
            ]
          },
          "metadata": {},
          "execution_count": 31
        }
      ]
    },
    {
      "cell_type": "markdown",
      "source": [
        "## Passo 2: Formulação das Equações de Condição"
      ],
      "metadata": {
        "id": "Zb3oXMNUH1JV"
      }
    },
    {
      "cell_type": "markdown",
      "source": [
        "\n",
        "\n",
        "> **\" Explicação\"**\n",
        "\n",
        "\n",
        "\n",
        "As equações de condição refletem as restrições geométricas ou de fechamento da poligonal. Estas restrições podem ser de diferentes tipos, dependendo da natureza da poligonal (aberta ou fechada). Para uma poligonal fechada, as restrições comuns incluem:\n",
        "\n",
        "- **Fechamento Angular:** A soma dos ângulos internos deve ser igual a um valor teórico específico, geralmente dado por $(n-2) \\times 180^\\circ$, onde $n$ é o número de vértices na poligonal fechada.\n",
        "  \n",
        " $ \\sum (\\theta_i + v_{\\theta_i}) = (n-2) \\times 180^\\circ $\n",
        "  \n",
        "  Onde \\(\\theta_i\\) representa os ângulos medidos e \\(v_{\\theta_i}\\) são as correções angulares a serem aplicadas.\n",
        "\n",
        "- **Fechamento Linear:** As projeções das distâncias medidas ao longo dos eixos horizontal e vertical devem fechar no ponto de partida.\n",
        "\n",
        " $$ \\sum (S_{ik} \\cos(\\alpha_{ik} + v_{\\alpha_{ik}})) = 0 $$\n",
        "  $$\\sum (S_{ik} \\sin(\\alpha_{ik} + v_{\\alpha_{ik}})) = 0 $$\n",
        "\n",
        "  Aqui, $S_{ik}$são as distâncias medidas, $\\alpha_{ik}$ são os azimutes medidos, e $v_{\\alpha_{ik}}$são as correções nos azimutes.\n",
        "\n",
        "Para poligonais abertas, as condições de fechamento não se aplicam, mas podem existir outras restrições específicas, como a orientação ou a posição relativa entre pontos específicos, que devem ser respeitadas. Estas são traduzidas em equações de condição apropriadas, baseadas nas necessidades específicas do levantamento.\n",
        "\n",
        "A formulação precisa das equações de condição dependerá dos dados disponíveis e do contexto específico do projeto de levantamento.\n"
      ],
      "metadata": {
        "id": "YrstSF95JRVq"
      }
    },
    {
      "cell_type": "markdown",
      "source": [
        "#Vetor L"
      ],
      "metadata": {
        "id": "85qnvwMIt66P"
      }
    },
    {
      "cell_type": "code",
      "source": [
        "Lb = Matrix([L[0], L[1], L[2], L[3], dados[0],dados[1],dados[2]])\n",
        "\n",
        "Lb\n"
      ],
      "metadata": {
        "id": "9WwcYJ1JH3wu",
        "colab": {
          "base_uri": "https://localhost:8080/",
          "height": 159
        },
        "outputId": "612bfd00-2dbf-420a-f088-f5b6a687f793"
      },
      "execution_count": 24,
      "outputs": [
        {
          "output_type": "execute_result",
          "data": {
            "text/plain": [
              "Matrix([\n",
              "[90.0002777777778],\n",
              "[30.0000277777778],\n",
              "[30.0002222222222],\n",
              "[            21.0],\n",
              "[          1000.0],\n",
              "[        1000.005],\n",
              "[         1000.01]])"
            ],
            "text/latex": "$\\displaystyle \\left[\\begin{matrix}90.0002777777778\\\\30.0000277777778\\\\30.0002222222222\\\\21.0\\\\1000.0\\\\1000.005\\\\1000.01\\end{matrix}\\right]$"
          },
          "metadata": {},
          "execution_count": 24
        }
      ]
    },
    {
      "cell_type": "markdown",
      "source": [
        "#Vetor P dos pesos\n"
      ],
      "metadata": {
        "id": "E820gdhTueR1"
      }
    },
    {
      "cell_type": "code",
      "source": [
        "#Valor dos pesos\n",
        "pesos = np.array([720,720,720,720,100,100,100])\n",
        "\n",
        "p_identity = np.eye(7)\n",
        "\n",
        "Matriz_peso = pesos*p_identity\n",
        "\n",
        "Matriz_peso = Matrix(Matriz_peso)\n",
        "P = Matriz_peso\n",
        "\n"
      ],
      "metadata": {
        "id": "yqzUDMuSurn8"
      },
      "execution_count": 73,
      "outputs": []
    },
    {
      "cell_type": "code",
      "source": [
        "Lb[0]"
      ],
      "metadata": {
        "colab": {
          "base_uri": "https://localhost:8080/",
          "height": 37
        },
        "id": "pDabFZee00Nz",
        "outputId": "8b3e03bc-40a1-426f-b96b-94a04f1fba81"
      },
      "execution_count": 40,
      "outputs": [
        {
          "output_type": "execute_result",
          "data": {
            "text/plain": [
              "90.0002777777778"
            ],
            "text/latex": "$\\displaystyle 90.0002777777778$"
          },
          "metadata": {},
          "execution_count": 40
        }
      ]
    },
    {
      "cell_type": "code",
      "source": [
        "n=3\n",
        "Erro_de_Fechamento_angular = Lb[0]+Lb[1]+Lb[2]+Lb[3]+(4*desvio3) - ((n-2)*180)\n",
        "Erro_de_fechamento_linear1 = Lb[4]*mt.cos(Azimute_radiano[0]+desvio3) + Lb[5]*mt.cos(Azimute_radiano[1]+desvio3) + Lb[6]*mt.cos(Azimute_radiano[2]+desvio3)\n",
        "Erro_de_fechamento_linear2 = Lb[4]*mt.sin(Azimute_radiano[0]+desvio3) + Lb[5]*mt.sin(Azimute_radiano[1]+desvio3) + Lb[6]*mt.sin(Azimute_radiano[2]+desvio3)\n",
        "W = sp.Matrix([Erro_de_Fechamento_angular, Erro_de_fechamento_linear1,Erro_de_fechamento_linear2])\n",
        "W\n"
      ],
      "metadata": {
        "colab": {
          "base_uri": "https://localhost:8080/",
          "height": 78
        },
        "id": "DbS1kf4RxXm0",
        "outputId": "c82a5cde-acef-4357-beff-8b29ebd01ffd"
      },
      "execution_count": 74,
      "outputs": [
        {
          "output_type": "execute_result",
          "data": {
            "text/plain": [
              "Matrix([\n",
              "[   -8.99943537638245],\n",
              "[ 0.00184787629126504],\n",
              "[-0.00770410187078596]])"
            ],
            "text/latex": "$\\displaystyle \\left[\\begin{matrix}-8.99943537638245\\\\0.00184787629126504\\\\-0.00770410187078596\\end{matrix}\\right]$"
          },
          "metadata": {},
          "execution_count": 74
        }
      ]
    },
    {
      "cell_type": "markdown",
      "source": [
        "## Passo 3: Derivação das Equações Normais"
      ],
      "metadata": {
        "id": "bThCtD1tIB3P"
      }
    },
    {
      "cell_type": "code",
      "source": [
        "a1,a2,a3,a4,d1,d2,d3 = sp.symbols('a1 a2 a3 a4 d1 d2 d3')\n",
        "vetorvariavel = sp.Matrix([a1,a2,a3,a4,d1,d2,d3])\n",
        "az1,az2,az3 = sp.symbols('az1 az2 az3')\n",
        "vetorparametro = sp.Matrix([az1,az2,az3])"
      ],
      "metadata": {
        "id": "CGxGsI2QILM3"
      },
      "execution_count": 75,
      "outputs": []
    },
    {
      "cell_type": "markdown",
      "source": [
        "Equações normais\n"
      ],
      "metadata": {
        "id": "xDOxRiHw1up6"
      }
    },
    {
      "cell_type": "code",
      "source": [
        "f1 = a1+a2+a3+a4-180\n",
        "f2 = (d1*sp.cos(az1))+(d2*sp.cos(az2))+(d3*sp.cos(az3))\n",
        "f3 = (d1*sp.sin(az1))+(d2*sp.sin(az2))+(d3*sp.sin(az3))\n",
        "F = sp.Matrix([f1,f2,f3])"
      ],
      "metadata": {
        "id": "D9BmM_1A1wC-"
      },
      "execution_count": 76,
      "outputs": []
    },
    {
      "cell_type": "code",
      "source": [
        "dicionario = {a1:Lb[0],a2:Lb[1],a3:Lb[2],a4:Lb[3],d1:Lb[4],d2:Lb[5],d3:Lb[6],az1:Az_rad[0],az2:Az_rad[1],az3:Az_rad[2]}"
      ],
      "metadata": {
        "id": "UPuVQJN-1w9q"
      },
      "execution_count": 77,
      "outputs": []
    },
    {
      "cell_type": "code",
      "source": [],
      "metadata": {
        "colab": {
          "base_uri": "https://localhost:8080/",
          "height": 37
        },
        "id": "Bu5jURkX3BAP",
        "outputId": "f70a82c8-fdef-4547-cd10-75c3a8dc3799"
      },
      "execution_count": 54,
      "outputs": [
        {
          "output_type": "execute_result",
          "data": {
            "text/plain": [
              "0.785403011534259"
            ],
            "text/latex": "$\\displaystyle 0.785403011534259$"
          },
          "metadata": {},
          "execution_count": 54
        }
      ]
    },
    {
      "cell_type": "markdown",
      "source": [
        "## Passo 4: Resolução do Sistema de Equações Normais"
      ],
      "metadata": {
        "id": "mSyoQsLRHnqP"
      }
    },
    {
      "cell_type": "code",
      "source": [
        "B = sp.zeros(3,7)\n",
        "for i in range(3):\n",
        "  for j in range(7):\n",
        "      B[i,j] = sp.diff(F[i],vetorvariavel[j])"
      ],
      "metadata": {
        "id": "-egsmHv2IFY4"
      },
      "execution_count": 78,
      "outputs": []
    },
    {
      "cell_type": "code",
      "source": [
        "B = B.subs(dicionario)\n",
        "B"
      ],
      "metadata": {
        "colab": {
          "base_uri": "https://localhost:8080/",
          "height": 78
        },
        "id": "dVRfC3mg3HWz",
        "outputId": "de49a41a-23b5-45f0-bfaa-957ba13dda6a"
      },
      "execution_count": 79,
      "outputs": [
        {
          "output_type": "execute_result",
          "data": {
            "text/plain": [
              "Matrix([\n",
              "[1, 1, 1, 1,                 0,                  0,                  0],\n",
              "[0, 0, 0, 0, 0.707103353027822, -0.965927206544487,  0.258827942678595],\n",
              "[0, 0, 0, 0, 0.707110209328653,   0.25881389386423, -0.965923442146822]])"
            ],
            "text/latex": "$\\displaystyle \\left[\\begin{matrix}1 & 1 & 1 & 1 & 0 & 0 & 0\\\\0 & 0 & 0 & 0 & 0.707103353027822 & -0.965927206544487 & 0.258827942678595\\\\0 & 0 & 0 & 0 & 0.707110209328653 & 0.25881389386423 & -0.965923442146822\\end{matrix}\\right]$"
          },
          "metadata": {},
          "execution_count": 79
        }
      ]
    },
    {
      "cell_type": "markdown",
      "source": [
        "#Matriz M\n"
      ],
      "metadata": {
        "id": "wJKVt57W2fC4"
      }
    },
    {
      "cell_type": "code",
      "source": [
        "M = B @ P.inv() @ B.T\n",
        "M"
      ],
      "metadata": {
        "id": "V7UwYxUOIz1Q",
        "colab": {
          "base_uri": "https://localhost:8080/",
          "height": 78
        },
        "outputId": "858f8738-3475-47af-c235-3065ed07db3c"
      },
      "execution_count": 80,
      "outputs": [
        {
          "output_type": "execute_result",
          "data": {
            "text/plain": [
              "Matrix([\n",
              "[0.00555555555555556,                    0,                    0],\n",
              "[                  0,   0.0150000242411726, -3.35885456995665e-8],\n",
              "[                  0, -3.35885456986991e-8,   0.0149999757588274]])"
            ],
            "text/latex": "$\\displaystyle \\left[\\begin{matrix}0.00555555555555556 & 0 & 0\\\\0 & 0.0150000242411726 & -3.35885456995665 \\cdot 10^{-8}\\\\0 & -3.35885456986991 \\cdot 10^{-8} & 0.0149999757588274\\end{matrix}\\right]$"
          },
          "metadata": {},
          "execution_count": 80
        }
      ]
    },
    {
      "cell_type": "markdown",
      "source": [
        "#Vetor K\n"
      ],
      "metadata": {
        "id": "qoxKV97N2nCr"
      }
    },
    {
      "cell_type": "code",
      "source": [
        "K = -M.inv() @ W\n",
        "K"
      ],
      "metadata": {
        "colab": {
          "base_uri": "https://localhost:8080/",
          "height": 78
        },
        "id": "179Q6N9t2mF5",
        "outputId": "10440f58-fe23-448d-f800-5ee3dfcf9ebb"
      },
      "execution_count": 82,
      "outputs": [
        {
          "output_type": "execute_result",
          "data": {
            "text/plain": [
              "Matrix([\n",
              "[  1619.89836774884],\n",
              "[-0.123190403577427],\n",
              "[ 0.513607345562918]])"
            ],
            "text/latex": "$\\displaystyle \\left[\\begin{matrix}1619.89836774884\\\\-0.123190403577427\\\\0.513607345562918\\end{matrix}\\right]$"
          },
          "metadata": {},
          "execution_count": 82
        }
      ]
    },
    {
      "cell_type": "markdown",
      "source": [
        "## Passo 5: Aplicação das Correções às Observações"
      ],
      "metadata": {
        "id": "xh8wGW1YHvl-"
      }
    },
    {
      "cell_type": "markdown",
      "source": [
        "#Vetor V"
      ],
      "metadata": {
        "id": "PuvnhQFC2vEd"
      }
    },
    {
      "cell_type": "code",
      "source": [
        "V = P.inv() @ B.T @ K\n",
        "V"
      ],
      "metadata": {
        "id": "l0K_6DOhIs2H",
        "colab": {
          "base_uri": "https://localhost:8080/",
          "height": 159
        },
        "outputId": "94ea1b47-6594-4d7f-e753-b6e416b5d122"
      },
      "execution_count": 83,
      "outputs": [
        {
          "output_type": "execute_result",
          "data": {
            "text/plain": [
              "Matrix([\n",
              "[    2.24985884409561],\n",
              "[    2.24985884409561],\n",
              "[    2.24985884409561],\n",
              "[    2.24985884409561],\n",
              "[ 0.00276068650203279],\n",
              "[ 0.00251921679423042],\n",
              "[-0.00527990493853717]])"
            ],
            "text/latex": "$\\displaystyle \\left[\\begin{matrix}2.24985884409561\\\\2.24985884409561\\\\2.24985884409561\\\\2.24985884409561\\\\0.00276068650203279\\\\0.00251921679423042\\\\-0.00527990493853717\\end{matrix}\\right]$"
          },
          "metadata": {},
          "execution_count": 83
        }
      ]
    },
    {
      "cell_type": "markdown",
      "source": [
        "## Passo 6: Análise de Resíduos e Validação"
      ],
      "metadata": {
        "id": "CybsCyneIvef"
      }
    },
    {
      "cell_type": "code",
      "source": [
        "La = Lb + V\n",
        "La"
      ],
      "metadata": {
        "id": "tnwcIBhiI0uP",
        "colab": {
          "base_uri": "https://localhost:8080/",
          "height": 159
        },
        "outputId": "115cd4c9-59a5-4131-fc9c-863895ca371e"
      },
      "execution_count": 84,
      "outputs": [
        {
          "output_type": "execute_result",
          "data": {
            "text/plain": [
              "Matrix([\n",
              "[92.2501366218734],\n",
              "[32.2498866218734],\n",
              "[32.2500810663178],\n",
              "[23.2498588440956],\n",
              "[ 1000.0027606865],\n",
              "[1000.00751921679],\n",
              "[1000.00472009506]])"
            ],
            "text/latex": "$\\displaystyle \\left[\\begin{matrix}92.2501366218734\\\\32.2498866218734\\\\32.2500810663178\\\\23.2498588440956\\\\1000.0027606865\\\\1000.00751921679\\\\1000.00472009506\\end{matrix}\\right]$"
          },
          "metadata": {},
          "execution_count": 84
        }
      ]
    },
    {
      "cell_type": "code",
      "source": [],
      "metadata": {
        "id": "Ly0iZyI321Or"
      },
      "execution_count": null,
      "outputs": []
    },
    {
      "cell_type": "markdown",
      "source": [
        "Variancia a posteriori\n"
      ],
      "metadata": {
        "id": "5gbLI4_d4eyc"
      }
    },
    {
      "cell_type": "code",
      "source": [
        "VTPV = (V.T * P * V )/ (7-3)\n",
        "VTPV"
      ],
      "metadata": {
        "colab": {
          "base_uri": "https://localhost:8080/",
          "height": 38
        },
        "id": "9-dnU8zr4hwI",
        "outputId": "1692f644-3a82-4c55-fd0e-e27260d301c1"
      },
      "execution_count": 72,
      "outputs": [
        {
          "output_type": "execute_result",
          "data": {
            "text/plain": [
              "Matrix([[9111.3592883669]])"
            ],
            "text/latex": "$\\displaystyle \\left[\\begin{matrix}9111.3592883669\\end{matrix}\\right]$"
          },
          "metadata": {},
          "execution_count": 72
        }
      ]
    },
    {
      "cell_type": "code",
      "source": [],
      "metadata": {
        "id": "pXLlBCZd4iiL"
      },
      "execution_count": null,
      "outputs": []
    }
  ]
}